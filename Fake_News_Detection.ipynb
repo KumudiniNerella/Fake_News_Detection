{
  "nbformat": 4,
  "nbformat_minor": 0,
  "metadata": {
    "colab": {
      "name": "Fake_News_Detection.ipynb",
      "provenance": [],
      "collapsed_sections": [],
      "authorship_tag": "ABX9TyN+ERCNfUPyf5gNRYBkszRm",
      "include_colab_link": true
    },
    "kernelspec": {
      "name": "python3",
      "display_name": "Python 3"
    },
    "language_info": {
      "name": "python"
    }
  },
  "cells": [
    {
      "cell_type": "markdown",
      "metadata": {
        "id": "view-in-github",
        "colab_type": "text"
      },
      "source": [
        "<a href=\"https://colab.research.google.com/github/KumudiniNerella/Fake_News_Detection/blob/main/Fake_News_Detection.ipynb\" target=\"_parent\"><img src=\"https://colab.research.google.com/assets/colab-badge.svg\" alt=\"Open In Colab\"/></a>"
      ]
    },
    {
      "cell_type": "code",
      "source": [
        "import numpy as np\n",
        "import pandas as pd\n",
        "import seaborn as sns"
      ],
      "metadata": {
        "id": "4FkTkQY31Blp"
      },
      "execution_count": 12,
      "outputs": []
    },
    {
      "cell_type": "code",
      "source": [
        "dataset = pd.read_csv('news.csv')"
      ],
      "metadata": {
        "id": "5kT8yBLe1qsX"
      },
      "execution_count": 14,
      "outputs": []
    },
    {
      "cell_type": "code",
      "source": [
        "dataset.head()"
      ],
      "metadata": {
        "colab": {
          "base_uri": "https://localhost:8080/",
          "height": 206
        },
        "id": "sTAymNjY214q",
        "outputId": "f22ae40e-b6f9-4271-c05a-93ee93c8dcc4"
      },
      "execution_count": 15,
      "outputs": [
        {
          "output_type": "execute_result",
          "data": {
            "text/html": [
              "\n",
              "  <div id=\"df-2a974306-a446-441f-9d6e-e74aba97f637\">\n",
              "    <div class=\"colab-df-container\">\n",
              "      <div>\n",
              "<style scoped>\n",
              "    .dataframe tbody tr th:only-of-type {\n",
              "        vertical-align: middle;\n",
              "    }\n",
              "\n",
              "    .dataframe tbody tr th {\n",
              "        vertical-align: top;\n",
              "    }\n",
              "\n",
              "    .dataframe thead th {\n",
              "        text-align: right;\n",
              "    }\n",
              "</style>\n",
              "<table border=\"1\" class=\"dataframe\">\n",
              "  <thead>\n",
              "    <tr style=\"text-align: right;\">\n",
              "      <th></th>\n",
              "      <th>Unnamed: 0</th>\n",
              "      <th>title</th>\n",
              "      <th>text</th>\n",
              "      <th>label</th>\n",
              "    </tr>\n",
              "  </thead>\n",
              "  <tbody>\n",
              "    <tr>\n",
              "      <th>0</th>\n",
              "      <td>8476</td>\n",
              "      <td>You Can Smell Hillary’s Fear</td>\n",
              "      <td>Daniel Greenfield, a Shillman Journalism Fello...</td>\n",
              "      <td>FAKE</td>\n",
              "    </tr>\n",
              "    <tr>\n",
              "      <th>1</th>\n",
              "      <td>10294</td>\n",
              "      <td>Watch The Exact Moment Paul Ryan Committed Pol...</td>\n",
              "      <td>Google Pinterest Digg Linkedin Reddit Stumbleu...</td>\n",
              "      <td>FAKE</td>\n",
              "    </tr>\n",
              "    <tr>\n",
              "      <th>2</th>\n",
              "      <td>3608</td>\n",
              "      <td>Kerry to go to Paris in gesture of sympathy</td>\n",
              "      <td>U.S. Secretary of State John F. Kerry said Mon...</td>\n",
              "      <td>REAL</td>\n",
              "    </tr>\n",
              "    <tr>\n",
              "      <th>3</th>\n",
              "      <td>10142</td>\n",
              "      <td>Bernie supporters on Twitter erupt in anger ag...</td>\n",
              "      <td>— Kaydee King (@KaydeeKing) November 9, 2016 T...</td>\n",
              "      <td>FAKE</td>\n",
              "    </tr>\n",
              "    <tr>\n",
              "      <th>4</th>\n",
              "      <td>875</td>\n",
              "      <td>The Battle of New York: Why This Primary Matters</td>\n",
              "      <td>It's primary day in New York and front-runners...</td>\n",
              "      <td>REAL</td>\n",
              "    </tr>\n",
              "  </tbody>\n",
              "</table>\n",
              "</div>\n",
              "      <button class=\"colab-df-convert\" onclick=\"convertToInteractive('df-2a974306-a446-441f-9d6e-e74aba97f637')\"\n",
              "              title=\"Convert this dataframe to an interactive table.\"\n",
              "              style=\"display:none;\">\n",
              "        \n",
              "  <svg xmlns=\"http://www.w3.org/2000/svg\" height=\"24px\"viewBox=\"0 0 24 24\"\n",
              "       width=\"24px\">\n",
              "    <path d=\"M0 0h24v24H0V0z\" fill=\"none\"/>\n",
              "    <path d=\"M18.56 5.44l.94 2.06.94-2.06 2.06-.94-2.06-.94-.94-2.06-.94 2.06-2.06.94zm-11 1L8.5 8.5l.94-2.06 2.06-.94-2.06-.94L8.5 2.5l-.94 2.06-2.06.94zm10 10l.94 2.06.94-2.06 2.06-.94-2.06-.94-.94-2.06-.94 2.06-2.06.94z\"/><path d=\"M17.41 7.96l-1.37-1.37c-.4-.4-.92-.59-1.43-.59-.52 0-1.04.2-1.43.59L10.3 9.45l-7.72 7.72c-.78.78-.78 2.05 0 2.83L4 21.41c.39.39.9.59 1.41.59.51 0 1.02-.2 1.41-.59l7.78-7.78 2.81-2.81c.8-.78.8-2.07 0-2.86zM5.41 20L4 18.59l7.72-7.72 1.47 1.35L5.41 20z\"/>\n",
              "  </svg>\n",
              "      </button>\n",
              "      \n",
              "  <style>\n",
              "    .colab-df-container {\n",
              "      display:flex;\n",
              "      flex-wrap:wrap;\n",
              "      gap: 12px;\n",
              "    }\n",
              "\n",
              "    .colab-df-convert {\n",
              "      background-color: #E8F0FE;\n",
              "      border: none;\n",
              "      border-radius: 50%;\n",
              "      cursor: pointer;\n",
              "      display: none;\n",
              "      fill: #1967D2;\n",
              "      height: 32px;\n",
              "      padding: 0 0 0 0;\n",
              "      width: 32px;\n",
              "    }\n",
              "\n",
              "    .colab-df-convert:hover {\n",
              "      background-color: #E2EBFA;\n",
              "      box-shadow: 0px 1px 2px rgba(60, 64, 67, 0.3), 0px 1px 3px 1px rgba(60, 64, 67, 0.15);\n",
              "      fill: #174EA6;\n",
              "    }\n",
              "\n",
              "    [theme=dark] .colab-df-convert {\n",
              "      background-color: #3B4455;\n",
              "      fill: #D2E3FC;\n",
              "    }\n",
              "\n",
              "    [theme=dark] .colab-df-convert:hover {\n",
              "      background-color: #434B5C;\n",
              "      box-shadow: 0px 1px 3px 1px rgba(0, 0, 0, 0.15);\n",
              "      filter: drop-shadow(0px 1px 2px rgba(0, 0, 0, 0.3));\n",
              "      fill: #FFFFFF;\n",
              "    }\n",
              "  </style>\n",
              "\n",
              "      <script>\n",
              "        const buttonEl =\n",
              "          document.querySelector('#df-2a974306-a446-441f-9d6e-e74aba97f637 button.colab-df-convert');\n",
              "        buttonEl.style.display =\n",
              "          google.colab.kernel.accessAllowed ? 'block' : 'none';\n",
              "\n",
              "        async function convertToInteractive(key) {\n",
              "          const element = document.querySelector('#df-2a974306-a446-441f-9d6e-e74aba97f637');\n",
              "          const dataTable =\n",
              "            await google.colab.kernel.invokeFunction('convertToInteractive',\n",
              "                                                     [key], {});\n",
              "          if (!dataTable) return;\n",
              "\n",
              "          const docLinkHtml = 'Like what you see? Visit the ' +\n",
              "            '<a target=\"_blank\" href=https://colab.research.google.com/notebooks/data_table.ipynb>data table notebook</a>'\n",
              "            + ' to learn more about interactive tables.';\n",
              "          element.innerHTML = '';\n",
              "          dataTable['output_type'] = 'display_data';\n",
              "          await google.colab.output.renderOutput(dataTable, element);\n",
              "          const docLink = document.createElement('div');\n",
              "          docLink.innerHTML = docLinkHtml;\n",
              "          element.appendChild(docLink);\n",
              "        }\n",
              "      </script>\n",
              "    </div>\n",
              "  </div>\n",
              "  "
            ],
            "text/plain": [
              "   Unnamed: 0  ... label\n",
              "0        8476  ...  FAKE\n",
              "1       10294  ...  FAKE\n",
              "2        3608  ...  REAL\n",
              "3       10142  ...  FAKE\n",
              "4         875  ...  REAL\n",
              "\n",
              "[5 rows x 4 columns]"
            ]
          },
          "metadata": {},
          "execution_count": 15
        }
      ]
    },
    {
      "cell_type": "code",
      "source": [
        "dataset.shape"
      ],
      "metadata": {
        "colab": {
          "base_uri": "https://localhost:8080/"
        },
        "id": "bwXDyucj3BFN",
        "outputId": "ad4c2936-03e7-4ac2-c775-6d8376a5cf1b"
      },
      "execution_count": 16,
      "outputs": [
        {
          "output_type": "execute_result",
          "data": {
            "text/plain": [
              "(6335, 4)"
            ]
          },
          "metadata": {},
          "execution_count": 16
        }
      ]
    },
    {
      "cell_type": "code",
      "source": [
        "dataset.isna().sum()"
      ],
      "metadata": {
        "colab": {
          "base_uri": "https://localhost:8080/"
        },
        "id": "AqihMppL3FXN",
        "outputId": "4873621a-679a-47fb-f284-82530b6ea38e"
      },
      "execution_count": 17,
      "outputs": [
        {
          "output_type": "execute_result",
          "data": {
            "text/plain": [
              "Unnamed: 0    0\n",
              "title         0\n",
              "text          0\n",
              "label         0\n",
              "dtype: int64"
            ]
          },
          "metadata": {},
          "execution_count": 17
        }
      ]
    },
    {
      "cell_type": "code",
      "source": [
        "dataset.dropna(axis=0,inplace=True)"
      ],
      "metadata": {
        "id": "iNfLnWpx3S78"
      },
      "execution_count": 18,
      "outputs": []
    },
    {
      "cell_type": "code",
      "source": [
        "dataset.shape"
      ],
      "metadata": {
        "colab": {
          "base_uri": "https://localhost:8080/"
        },
        "id": "cHBI_xhi3t4X",
        "outputId": "a31ed9d3-7307-4bdf-821e-d9ce6db849dc"
      },
      "execution_count": 19,
      "outputs": [
        {
          "output_type": "execute_result",
          "data": {
            "text/plain": [
              "(6335, 4)"
            ]
          },
          "metadata": {},
          "execution_count": 19
        }
      ]
    },
    {
      "cell_type": "code",
      "source": [
        "dataset.reset_index(inplace=True)"
      ],
      "metadata": {
        "id": "o3aW8mdM35_h"
      },
      "execution_count": 20,
      "outputs": []
    },
    {
      "cell_type": "code",
      "source": [
        "sns.countplot(dataset['label'])"
      ],
      "metadata": {
        "colab": {
          "base_uri": "https://localhost:8080/",
          "height": 351
        },
        "id": "Lpv4IXjL4o5d",
        "outputId": "c46f1757-370d-410b-d9d0-ff4646b49390"
      },
      "execution_count": 21,
      "outputs": [
        {
          "output_type": "stream",
          "name": "stderr",
          "text": [
            "/usr/local/lib/python3.7/dist-packages/seaborn/_decorators.py:43: FutureWarning: Pass the following variable as a keyword arg: x. From version 0.12, the only valid positional argument will be `data`, and passing other arguments without an explicit keyword will result in an error or misinterpretation.\n",
            "  FutureWarning\n"
          ]
        },
        {
          "output_type": "execute_result",
          "data": {
            "text/plain": [
              "<matplotlib.axes._subplots.AxesSubplot at 0x7efcc97beb90>"
            ]
          },
          "metadata": {},
          "execution_count": 21
        },
        {
          "output_type": "display_data",
          "data": {
            "image/png": "[encoded data removed]",
            "text/plain": [
              "<Figure size 432x288 with 1 Axes>"
            ]
          },
          "metadata": {
            "needs_background": "light"
          }
        }
      ]
    },
    {
      "cell_type": "code",
      "source": [
        "data = dataset['title'][0]\n",
        "data"
      ],
      "metadata": {
        "colab": {
          "base_uri": "https://localhost:8080/",
          "height": 35
        },
        "id": "MyCnkStd5bv5",
        "outputId": "259e4372-785f-4770-b003-1da13c7e00a7"
      },
      "execution_count": 38,
      "outputs": [
        {
          "output_type": "execute_result",
          "data": {
            "application/vnd.google.colaboratory.intrinsic+json": {
              "type": "string"
            },
            "text/plain": [
              "'You Can Smell Hillary’s Fear'"
            ]
          },
          "metadata": {},
          "execution_count": 38
        }
      ]
    },
    {
      "cell_type": "code",
      "source": [
        "#regular expression\n",
        "\n",
        "import re"
      ],
      "metadata": {
        "id": "3xbCkujf5juC"
      },
      "execution_count": 23,
      "outputs": []
    },
    {
      "cell_type": "code",
      "source": [
        "data = re.sub('[^a-zA-Z]', ' ' , data)"
      ],
      "metadata": {
        "id": "zCgn9llT5tdF"
      },
      "execution_count": 39,
      "outputs": []
    },
    {
      "cell_type": "code",
      "source": [
        "#changing to lower case\n",
        "\n",
        "data = data.lower()\n",
        "data"
      ],
      "metadata": {
        "colab": {
          "base_uri": "https://localhost:8080/",
          "height": 35
        },
        "id": "ROqsYZ1w6eB5",
        "outputId": "55bdcd98-ae48-43ab-f276-8ca9a12259a5"
      },
      "execution_count": 40,
      "outputs": [
        {
          "output_type": "execute_result",
          "data": {
            "application/vnd.google.colaboratory.intrinsic+json": {
              "type": "string"
            },
            "text/plain": [
              "'you can smell hillary s fear'"
            ]
          },
          "metadata": {},
          "execution_count": 40
        }
      ]
    },
    {
      "cell_type": "code",
      "source": [
        "#split the text\n",
        "\n",
        "list=data.split()\n",
        "list"
      ],
      "metadata": {
        "colab": {
          "base_uri": "https://localhost:8080/"
        },
        "id": "ZHAhOq4_7CF0",
        "outputId": "e4567231-0a79-4761-96fa-c6f4931d8ff1"
      },
      "execution_count": 32,
      "outputs": [
        {
          "output_type": "execute_result",
          "data": {
            "text/plain": [
              "['you', 'can', 'smell', 'hillary', 's', 'fear']"
            ]
          },
          "metadata": {},
          "execution_count": 32
        }
      ]
    },
    {
      "cell_type": "code",
      "source": [
        "!pip install nltk\n",
        "import nltk"
      ],
      "metadata": {
        "colab": {
          "base_uri": "https://localhost:8080/"
        },
        "id": "F0C4lCH97QRU",
        "outputId": "05576def-cb23-460d-da7a-f8e630a4be05"
      },
      "execution_count": 33,
      "outputs": [
        {
          "output_type": "stream",
          "name": "stdout",
          "text": [
            "Requirement already satisfied: nltk in /usr/local/lib/python3.7/dist-packages (3.2.5)\n",
            "Requirement already satisfied: six in /usr/local/lib/python3.7/dist-packages (from nltk) (1.15.0)\n"
          ]
        }
      ]
    },
    {
      "cell_type": "code",
      "source": [
        "nltk.download('stopwords')"
      ],
      "metadata": {
        "colab": {
          "base_uri": "https://localhost:8080/"
        },
        "id": "RXX_XRTQ7dW2",
        "outputId": "df963415-c906-49c5-c8fc-33171fd09a3a"
      },
      "execution_count": 34,
      "outputs": [
        {
          "output_type": "stream",
          "name": "stdout",
          "text": [
            "[nltk_data] Downloading package stopwords to /root/nltk_data...\n",
            "[nltk_data]   Package stopwords is already up-to-date!\n"
          ]
        },
        {
          "output_type": "execute_result",
          "data": {
            "text/plain": [
              "True"
            ]
          },
          "metadata": {},
          "execution_count": 34
        }
      ]
    },
    {
      "cell_type": "code",
      "source": [
        "#remove the stopwords from the text if any \n",
        "\n",
        "from nltk.corpus import stopwords\n",
        "from nltk.stem.porter import PorterStemmer"
      ],
      "metadata": {
        "id": "UQG17AF37jqD"
      },
      "execution_count": 35,
      "outputs": []
    },
    {
      "cell_type": "code",
      "source": [
        "ps = PorterStemmer()\n",
        "\n",
        "review = [ps.stem(word) for word in list if word  not in set(stopwords.words('english'))]"
      ],
      "metadata": {
        "id": "ubrI0Z_n8Sb8"
      },
      "execution_count": 42,
      "outputs": []
    },
    {
      "cell_type": "code",
      "source": [
        "review"
      ],
      "metadata": {
        "colab": {
          "base_uri": "https://localhost:8080/"
        },
        "id": "O1AefuV-9oza",
        "outputId": "3056b817-a3d1-4ca3-e02c-968e84218f1b"
      },
      "execution_count": 43,
      "outputs": [
        {
          "output_type": "execute_result",
          "data": {
            "text/plain": [
              "['smell', 'hillari', 'fear']"
            ]
          },
          "metadata": {},
          "execution_count": 43
        }
      ]
    },
    {
      "cell_type": "code",
      "source": [
        "' '.join(review)"
      ],
      "metadata": {
        "colab": {
          "base_uri": "https://localhost:8080/",
          "height": 35
        },
        "id": "SPP5HBfv_imO",
        "outputId": "23dbad31-0207-4ecd-86f3-500959bfbbfb"
      },
      "execution_count": 44,
      "outputs": [
        {
          "output_type": "execute_result",
          "data": {
            "application/vnd.google.colaboratory.intrinsic+json": {
              "type": "string"
            },
            "text/plain": [
              "'smell hillari fear'"
            ]
          },
          "metadata": {},
          "execution_count": 44
        }
      ]
    },
    {
      "cell_type": "code",
      "source": [
        "corpus = []\n",
        "\n",
        "for i in range(0 , len(dataset)):\n",
        "  review = re.sub('[^a-zA-Z]' , ' ' , dataset['title'][i])\n",
        "  review = review.lower()\n",
        "  list = review.split()\n",
        "  review = [ps.stem(word) for word in list if not word in set(stopwords.words('english'))]\n",
        "  corpus.append(' '.join(review))\n",
        "   "
      ],
      "metadata": {
        "id": "YkH_4j-6_ycj"
      },
      "execution_count": 45,
      "outputs": []
    },
    {
      "cell_type": "code",
      "source": [
        "corpus[0]"
      ],
      "metadata": {
        "colab": {
          "base_uri": "https://localhost:8080/",
          "height": 35
        },
        "id": "5L8fJ3k0BcZc",
        "outputId": "2e75f503-a4f0-480f-f40e-c16b3a1a5390"
      },
      "execution_count": 46,
      "outputs": [
        {
          "output_type": "execute_result",
          "data": {
            "application/vnd.google.colaboratory.intrinsic+json": {
              "type": "string"
            },
            "text/plain": [
              "'smell hillari fear'"
            ]
          },
          "metadata": {},
          "execution_count": 46
        }
      ]
    },
    {
      "cell_type": "code",
      "source": [
        "corpus"
      ],
      "metadata": {
        "colab": {
          "base_uri": "https://localhost:8080/"
        },
        "id": "ygF2mQAuBj7b",
        "outputId": "bada7f7d-3256-4a8b-8993-0644e1bb20b1"
      },
      "execution_count": 47,
      "outputs": [
        {
          "output_type": "execute_result",
          "data": {
            "text/plain": [
              "['smell hillari fear',\n",
              " 'watch exact moment paul ryan commit polit suicid trump ralli video',\n",
              " 'kerri go pari gestur sympathi',\n",
              " 'berni support twitter erupt anger dnc tri warn',\n",
              " 'battl new york primari matter',\n",
              " 'tehran usa',\n",
              " 'girl horrifi watch boyfriend left facetim',\n",
              " 'britain schindler die',\n",
              " 'fact check trump clinton command chief forum',\n",
              " 'iran reportedli make new push uranium concess nuclear talk',\n",
              " 'three clinton iowa glimps fire elud hillari clinton campaign',\n",
              " 'donald trump shockingli weak deleg game somehow got even wors',\n",
              " 'strong solar storm tech risk today news oct video',\n",
              " 'way america prepar world war',\n",
              " 'trump take cruz lightli',\n",
              " 'women lead differ',\n",
              " 'shock michel obama hillari caught glamor date rape promot',\n",
              " 'hillari clinton huge troubl america notic sick thing hidden pictur liberti writer news',\n",
              " 'iran bill obama like',\n",
              " 'chart explain everyth need know partisanship america',\n",
              " 'slipperi slope trump propos ban muslim',\n",
              " 'episod sunday wire hail deplor special guest randi j',\n",
              " 'hillari clinton make bipartisan appeal staten island',\n",
              " 'new senat major leader main goal gop scari',\n",
              " 'inferno overpopul myth',\n",
              " 'anti trump forc seek last ditch deleg revolt',\n",
              " 'sander trounc clinton w va make differ',\n",
              " 'donald trump chang campaign slogan prove racist',\n",
              " 'pure chao donald trump campaign manag offer glimps govern style spoiler alert terribl',\n",
              " 'syrian war report novemb syrian militari deploy advanc battl tank aleppo',\n",
              " 'gop insid carli crush',\n",
              " 'jeffrey sewel et al metabiolog face face artifici intellig video',\n",
              " 'necessari relax stretch',\n",
              " 'brexit encourag uk trade non eu state includ russia',\n",
              " 'interview socrat anoth day life empir near endgam fool ever hope chang',\n",
              " 'mike penc drape shawl immodest ladi justic statu onion america finest news sourc',\n",
              " 'first ever hindu woman elect congress',\n",
              " 'donald grope hillari trump weiner sext',\n",
              " 'ex assist fbi director clinton crime famili',\n",
              " 'hillari want aggress interventionist foreign polici',\n",
              " 'parti want craft populist messag',\n",
              " 'first take wall street bid goodby june hike',\n",
              " 'real disclosur secret alien base found moon tycho crater',\n",
              " 'homeless woman protect trump walk fame star violent leftist',\n",
              " 'tweet storm saturday clinton continu mock trump friday meltdown',\n",
              " 'signific pipelin spill alreadi year expos troubl safeti record',\n",
              " 'obama make right call tough afghanistan',\n",
              " 'senat race rank dem attack gop lay swing state groundwork',\n",
              " 'know boy want rape court throw muslim migrant child sex charg german shock',\n",
              " 'pieczenik rogu fbi agent wikileak spearhead movement stop clinton steal white hous truthfe',\n",
              " 'american polit reach peak polar',\n",
              " 'anti muhammad cartoon contest free speech deliber provoc video',\n",
              " 'effect substanc abus individu famili commun',\n",
              " 'tree shape vertic farm grow acr urban crop',\n",
              " 'new comment featur ad',\n",
              " 'world newspap react hebdo attack',\n",
              " 'ying yang gold silver set',\n",
              " 'close primari warp democraci',\n",
              " 'polic turn badg rather incit violenc stand rock protestor',\n",
              " 'donald trump hillari clinton caus tremend death',\n",
              " 'detroit women halloween decor depict real life horror shoot polic polic',\n",
              " 'biden make anoth surpris polit stop',\n",
              " 'hillari clinton declin favor number context',\n",
              " 'comment quid pro quo wikileak email reveal clinton campaign eye paul ryan rel suprem court lenor lee',\n",
              " 'hillari clinton crimin investig keep move forward',\n",
              " 'rubio part shot trump',\n",
              " 'loretta lynch becom first african american woman ag',\n",
              " 'funni republican upset facebook column',\n",
              " 'fbi check orlando shooter wife knew attack plan warn polic',\n",
              " 'googl youtub hillari purs',\n",
              " 'handicap hispan vote goper',\n",
              " 'truth radio laconia incid',\n",
              " 'gop establish nightmar ted cruz vs donald trump',\n",
              " 'berni sander lost poor voter south carolina big margin problem polit revolut',\n",
              " 'get botox',\n",
              " 'jeb bush pick endors lindsey graham',\n",
              " 'republican race enter new volatil phase',\n",
              " 'hand shoot built lie',\n",
              " 'lavrov kerri discuss syrian settlement',\n",
              " 'break doj say help review k email truthfe',\n",
              " 'berni sander call ouster two convent co chair reject',\n",
              " 'five reason new york democrat primari felt competit',\n",
              " 'get around congress obama turn citi hall',\n",
              " 'celebr deathmatch darkmoon sage make final predict us elect',\n",
              " 'john kerri isi respons genocid',\n",
              " 'mitt romney invent anti poverti warrior',\n",
              " 'king fill suprem court vacanc',\n",
              " 'ted cruz toast presid day senat number',\n",
              " 'obama speech selma answer question love america',\n",
              " 'berni sander go',\n",
              " 'exclus gop campaign plot revolt rnc',\n",
              " 'revel unleash unlock mysteri bibl mysteri book',\n",
              " 'silent counter coup intel agenc stop crook clinton video',\n",
              " 'hillari clinton berni sander town hall',\n",
              " 'french polic hunt two brother accus charli hebdo terror attack',\n",
              " 'mandela effect made one overlook year old man ascend master video proof',\n",
              " 'cnn one voter make differ vote repeatedli',\n",
              " 'give social secur recipi ceo style rais',\n",
              " 'firework erupt trump bush rubio cruz gop debat',\n",
              " 'obama sound like critic admit complet strategi iraq',\n",
              " 'ted cruz becam ted cruz',\n",
              " 'newli approv gm potato potenti silenc human gene',\n",
              " 'accord reach sander sue dnc suspend access critic voter list',\n",
              " 'latest patriot act reform enough rein nsa',\n",
              " 'fbi expand probe clinton email launch independ classif review',\n",
              " 'gari johnson',\n",
              " 'arcturian group marilyn raffael octob video',\n",
              " 'nuclear weapon question',\n",
              " 'kevin macdonald celebr trump amaz victori',\n",
              " 'amaz aqutru water filter version stock snag unit natur news reader deep discount',\n",
              " 'happen clinton drop',\n",
              " 'brother id suicid bomber belgium',\n",
              " 'glorifi violenc',\n",
              " 'russia may run patienc respond usa rude',\n",
              " 'david duke show hillari treason trump duke win',\n",
              " 'blame immigr san francisco shoot',\n",
              " 'netanyahu allow israel submerg refuge',\n",
              " 'apocalyps trump voter warn revolut clinton win',\n",
              " 'geo engin unlik work conserv group say',\n",
              " 'question ahead tonight democrat debat',\n",
              " 'obama terror strategi fail us must heed lesson',\n",
              " 'berni need ground pulp leak email john podesta februari',\n",
              " 'selma year john lewi recal march',\n",
              " 'long overdu presidenti assassin anyway',\n",
              " 'flip flop vox warn seriou risk elect day violenc good kind either',\n",
              " 'third parti presidenti candid fight poll spot debat',\n",
              " 'bush rubio kasich eye one anoth shadow trump',\n",
              " 'comey must explain advis obama publicli accus russia hack democrat',\n",
              " 'putin congratul trump say russia readi restor relat us',\n",
              " 'monsieur malbrough est mort new eastern outlook',\n",
              " 'conspiraci theori swirl around death antonin scalia',\n",
              " 'one elect thread ehhh',\n",
              " 'mccain trump understand syria',\n",
              " 'trump manag say undercov voter deliv win us elect',\n",
              " 'wikileak bill clinton differ bill cosbi podestaemail',\n",
              " 'report megyn trash trump newt murdoch announc replac avail',\n",
              " 'suspect captur ambush style kill two iowa cop',\n",
              " 'thing everi american know donald trump plan save u economi',\n",
              " 'next presid big impact climat polici even without congress',\n",
              " 'look shock number kid born illeg',\n",
              " 'mother daughter remind msnbc report trump black support',\n",
              " 'justic depart staffer monitor poll elect day',\n",
              " 'elizabeth warren blast fbi director go hillari instead wall street crook',\n",
              " 'poll percent dem think clinton keep run even indict',\n",
              " 'trump',\n",
              " 'iran deal unravel think institut',\n",
              " 'saturn baffl hexagon rage storm four time size earth chang color',\n",
              " 'cyru mistri renam rohit sharma mistri get job back',\n",
              " 'fbi interven elect',\n",
              " 'donald trump win year month day old first full day offic',\n",
              " 'shutdown clash return forc decemb',\n",
              " 'classless obama refus photo op white hous welcom trump',\n",
              " 'comment maryland trump support switch vote hillari misterdawg',\n",
              " 'stuff news one talk elect',\n",
              " 'blizzard charg countercharg melt away opinion trump clinton frozen',\n",
              " 'social media censor fbi open clinton email investig',\n",
              " 'obama inch closer veto proof support iran nuclear deal',\n",
              " 'clinton plan stop sander momentum',\n",
              " 'martin malley prais senat democrat hold trade deal',\n",
              " 'shi ite militia join iraq mosul attack',\n",
              " 'super pac get earli start push clinton campaign',\n",
              " 'christian attack us must promot religi freedom',\n",
              " 'u taxpay pay million dollar year privileg spi',\n",
              " 'video journalist shot militar polic stand rock conduct interview',\n",
              " 'buffett ran fed would rais rate significantli',\n",
              " 'tension russia even real',\n",
              " 'iran agre nuclear restrict framework deal world power',\n",
              " 'comment constip bodi constip bodi thehealtholog',\n",
              " 'fifteen quot prove fals flag terror exist shadow govern',\n",
              " 'berni sander vast univers donor map',\n",
              " 'former ambassador andrew young call end water fluorid civil right issu',\n",
              " 'trump new ad portray everi mother worst nightmar noth short chill',\n",
              " 'undercov video expos obama plan make american gun law like britain truthfe',\n",
              " 'happen obama forget gop run congress',\n",
              " 'syrian war report novemb isi al nusra attempt cut govt suppli line aleppo',\n",
              " 'christian celebr halloween',\n",
              " 'sunday charleston worship emanuel ame',\n",
              " 'make matter wors syria',\n",
              " 'fact check hillari clinton speech democrat convent annot',\n",
              " 'bust clinton foundat directli tie plot steal elect',\n",
              " 'connecticut becom first state boycott indiana lgbt discrimin law',\n",
              " 'scott walker confront doubt grasp foreign polici',\n",
              " 'iran carri new ballist missil test',\n",
              " 'assang donald trump allow win clinton isi fund interest',\n",
              " 'joe biden get respect',\n",
              " 'come paul ryan must run right right',\n",
              " 'berni sander need start win big state big',\n",
              " 'leak obama trade deal',\n",
              " 'michael moor admit women ever melt ice cap bomb american histori',\n",
              " 'someon tell truth freddi gray death',\n",
              " 'prison employe plead guilti aid escap two murder',\n",
              " 'culchi tri explain rule one time',\n",
              " 'elect day legal pot ohio democrat lose south',\n",
              " 'presid trump coloss failur democraci terrifi new realiti',\n",
              " 'go',\n",
              " 'raqqa mosul politician fiddl middl east burn',\n",
              " 'chri christi lose home state donor jeb bush make inroad',\n",
              " 'washington home depot store receiv order five thousand gallon gold exterior paint',\n",
              " 'western lynch mob russia tie absurd anot inform',\n",
              " 'sander ralli support around clinton dnc email leak',\n",
              " 'histor climat deal sight nation pars final text',\n",
              " 'live time individu immens power',\n",
              " 'trump slam corrupt media women make sexual assault claim',\n",
              " 'dement imbecil want killari reign terror',\n",
              " 'anti trump advert side bu realli visual clever see motion',\n",
              " 'american disconnect realiti insouci becom euphem',\n",
              " 'unspoken rule cover hillari clinton',\n",
              " 'hillari melt weiner public pic prove campaign implod',\n",
              " 'clinton vs trump latest elector predict greg laden blog scienc technolog',\n",
              " 'jubile year merci end novemb follow judgment',\n",
              " 'iraq launch oper isi anbar provinc',\n",
              " 'ukip mep steven woolf mike hookem report french polic strasbourg scuffl',\n",
              " 'justic kennedi scalia divid gay right',\n",
              " 'justic clarenc thoma describ washington dc broken',\n",
              " 'week pictur week octob onion america finest news sourc',\n",
              " 'jeb bush foreign polici plan militari spend encourag peac',\n",
              " 'john kasich conserv least sane',\n",
              " 'audio emerg hillari clinton propos rig palestin elect',\n",
              " 'author search clue raid thwart potenti belgian charli hebdo attack',\n",
              " 'classic footbal banner time',\n",
              " 'tweetwav',\n",
              " 'trump gettysburg address new world order',\n",
              " 'debat goal democrat candid',\n",
              " 'spin speak email show pentagon readi roll benghazi attack occur',\n",
              " 'case studi obamacar lawsuit base mythic histori',\n",
              " 'trump proudli declar peopl insult deserv',\n",
              " 'dem sue gop trump rig complaint',\n",
              " 'us airstrik iraqi armi slow advanc mosul',\n",
              " 'iran letter blowback startl gop',\n",
              " 'clinton camp desper russia train wwiii',\n",
              " 'donald trump gop civil war',\n",
              " 'comment taint measl vaccin kill children syria tragic death use promot vaccin fear fenc vaccin',\n",
              " 'laura bush hint rather see hillari presid',\n",
              " 'scott walker rick perri show limit super pac',\n",
              " 'catcal polit correct',\n",
              " 'hillari unleash wwiii inform',\n",
              " 'time reconsid lifetim appoint suprem court',\n",
              " 'clinton deleg win dem nomin ap report sander question talli',\n",
              " 'hillari implod trump took everyth paid noth support us',\n",
              " 'trump say obama born us period new birther dust',\n",
              " 'mh debri part miss plane next',\n",
              " 'googl plan massiv ai integr social network spi tool hillari campaign',\n",
              " 'israel stole classifi us inform use help congression republican',\n",
              " 'america simpl ideolog one russia top us expert explain america',\n",
              " 'poll show trump made point week like poll',\n",
              " 'chao hous floor dem republican clash lgbt propos',\n",
              " 'new studi link fluorid consumpt hypothyroid weight gain wors',\n",
              " 'clinton sander accus trump incit violenc',\n",
              " 'memo next administr defens spend must actual defens',\n",
              " 'new respons hillari clinton insist email setup matter conveni',\n",
              " 'trump mull altern option make mexico financ wall',\n",
              " 'circu liar america three ring evil clown',\n",
              " 'donald trump said univers educ actual goal sell sell sell',\n",
              " 'trump forev chang american polit',\n",
              " 'kerri advis mari harf twitter fight iran nuke',\n",
              " 'role us nato eu relat china manlio dinucci',\n",
              " 'daili mani african american unenthusiast settl hillari clinton',\n",
              " 'peopl come recent berni sander ralli',\n",
              " 'trump presid mean world countercurr org',\n",
              " 'fleec congress grill kerri obama offici iran nuke deal',\n",
              " 'page hack wikileak email teach us hillari clinton',\n",
              " 'comment break cdc block testimoni senior scientist blew whistl sever medic malpractic cdc accus block testimoni senior scientist new york malpractic injuri lawyer blog',\n",
              " 'fox news admit made stori hillari indict foundat',\n",
              " 'repudi media',\n",
              " 'buchanan smash cnn shill',\n",
              " 'imposs happen cub win world seri ye hillari clinton like indict',\n",
              " 'america elect gullibl shatter david keran',\n",
              " 'anderson cooper absolut own kellyann conway fbi clear hillari video',\n",
              " 'schlong nyt fbi reopen hillari probe thank anthoni weiner',\n",
              " 'american realli think elect coverag',\n",
              " 'exclus sieg islamabad',\n",
              " 'fix nbc affili accident post elect result week earli hillari win presid trump',\n",
              " 'lynch school wingnut right tri fail wound obama ag nomine',\n",
              " 'ye ted cruz could win',\n",
              " 'build wall hand small nyc anti trump protest stream live',\n",
              " 'trump advisor tri pivot fishtail',\n",
              " 'christian drop none soar new religion portrait',\n",
              " 'comment brother clinton campaign chair activ foreign agent saudi arabian payrol marlen',\n",
              " 'insid deliber hillari clinton campaign launch',\n",
              " 'american express disown pink floyd singer roger water pro palestinian view',\n",
              " 'clinton condemn trump chicago violenc',\n",
              " 'franc grow debat speech protect',\n",
              " 'presid elect donald trump first televis interview sinc elect inform',\n",
              " 'north carolina hillari support brag facebook vote multipl time',\n",
              " 'russia react un aid chief aleppo kill zone remark',\n",
              " 'repres govern thugocraci',\n",
              " 'gay right religi liberti american',\n",
              " 'rand paul stall ted cruz seek pick support among libertarian',\n",
              " 'dream come true hillari clinton wall street journal editori board rip ted cruz',\n",
              " 'obama press putin strike ukrain peac deal',\n",
              " 'trumka disappoint obama warn hillari',\n",
              " 'pro palestinian propaganda lower standard truth america',\n",
              " 'wingnut death grip congress paul ryan control hous gop',\n",
              " 'lift weight could ward dementia make smarter',\n",
              " 'peopl excit christma advert told rest human cultur',\n",
              " 'state depart warn possibl terror attack south africa',\n",
              " 'lost iraq',\n",
              " 'pope franci implor congress accept immigr',\n",
              " 'poll trump gain iowa still domin new hampshir',\n",
              " 'rand paul goe senat floor protest nsa spi measur',\n",
              " 'china airport secur robot give electroshock',\n",
              " 'obama detail disappoint netanyahu first post elect comment',\n",
              " 'wikileak neera tanden anoth ring endors hillari realli',\n",
              " 'realiti check first clinton v trump presidenti debat',\n",
              " 'doomsday elect',\n",
              " 'john kasich advic women prevent sexual assault avoid parti lot alcohol',\n",
              " 'system set boehner failur',\n",
              " 'gay marriag victori suprem court trigger backlash',\n",
              " 'rode best jess jackson mount fight pipelin leonardo dicaprio rescu',\n",
              " 'mccarthi drop speaker race hous ask want job video',\n",
              " 'democrat republican tight race iowan prepar caucu',\n",
              " 'iran best outcom keep negoti without reach deal',\n",
              " 'nazi fli saucer perman base antarctica',\n",
              " 'break man brag facebook vote time reveal',\n",
              " 'furiou parent slam damag bbc sex chang show aim six year old',\n",
              " 'trump famili say trump brand damag',\n",
              " 'rand paul flatlin',\n",
              " 'nurs chri christi quarantin ebola goe governor vaccin',\n",
              " 'paul ryan donald trump coexist within republican parti',\n",
              " 'cruz copi border wall trump say',\n",
              " 'john oliv america increasingli segreg school rare equal way video',\n",
              " 'rise mandatori vaccin mean end medic freedom',\n",
              " 'scientist fascin lake sea enter never come watch',\n",
              " 'jeb bush lose tv ad edg marco rubio',\n",
              " 'russia india discuss fgfa advanc fighter su mki upgrad',\n",
              " 'real polic race problem divers forc white resent america persist divid',\n",
              " 'suprem court cannot hide obamacar',\n",
              " 'break ted cruz call special prosecutor investig hillari truthfe',\n",
              " 'poll hillari clinton berni sander top trump',\n",
              " 'donald trump revok washington post press access video',\n",
              " 'real reason obamacar come unglu',\n",
              " 'jeb bush avoid jon huntsman',\n",
              " 'reviv clinton email scandal kill slew new fact record time',\n",
              " 'iraq sky darken islam state torch oil',\n",
              " 'new yorker fight overturn ballot selfi ban',\n",
              " 'poll find ben carson knock donald trump top spot nation',\n",
              " 'glad surpris palestinian reaction netanyahu win',\n",
              " 'georg w bush ethic lawyer file complaint fbi director jame comey',\n",
              " 'netflix ceo tv futur includ hallucin pill',\n",
              " 'ernst trump stop name call',\n",
              " 'comment elect beammeupscotti',\n",
              " 'debat duke say usa becom banana republ',\n",
              " 'five fbi field offic probe clinton chariti ad fuel fire',\n",
              " 'white hous gop fail put point board',\n",
              " 'daili presid hillari clinton lose way could lose',\n",
              " 'democrat want berni want berni',\n",
              " 'podesta wiki leak prefer muslim christian',\n",
              " 'critic pounc madelein albright exhort women back clinton',\n",
              " 'clinton doubl disput claim fbi found email remark truth',\n",
              " 'clinton haiti develop plan succeed disappoint',\n",
              " 'cours facebook bias real problem admit',\n",
              " 'tax calcul feder debt',\n",
              " 'trump advis remain split far move toward middl',\n",
              " 'clinton final stretch win anti trump conting may best play',\n",
              " 'australian taxpay charg million donat corrupt clinton foundat',\n",
              " 'vatican end scrutini u nun',\n",
              " 'clinton email scandal took root',\n",
              " 'jew blame holocaust hous lord event',\n",
              " 'disappear middl elector way less moder past primari',\n",
              " 'hanniti wikileak proven everyth conspiraci theorist said true',\n",
              " 'russia success test first ever hyperson weapon',\n",
              " 'hulk actor mark ruffalo join stand rock protest dapl',\n",
              " 'ap fact check republican debat fact',\n",
              " 'drop incom inequ',\n",
              " 'walmart goe grain obama america new thanksgiv ad',\n",
              " 'senat make histori confirm loretta lynch u attorney gener',\n",
              " 'manhunt escap killer expand vermont',\n",
              " 'path total dictatorship america shadow govern silent coup',\n",
              " 'youth day elect anoth world possibl',\n",
              " 'physic gold demand fear',\n",
              " 'protest charg shoot offic ferguson',\n",
              " 'comment u war iran alreadi begun',\n",
              " 'locker room talk lock talk',\n",
              " 'gop brace trump loss roil refus accept elect result',\n",
              " 'one old vh tape may worth',\n",
              " 'obama trump unfit serv presid',\n",
              " 'pope franci met kim davi matter fight religi freedom video',\n",
              " 'studi phytochem found broccoli cauliflow attack prostat cancer cell',\n",
              " 'david duke win louisiana senat debat landslid despit blm riot',\n",
              " 'pari tragedi could shake race',\n",
              " 'hillari clinton radioact sot',\n",
              " 'first gop debat six thing look charleston',\n",
              " 'black hawk crash florida human remain found',\n",
              " 'video creepi clown get pistol whip',\n",
              " 'vision thing inform',\n",
              " 'drudg koch soro bezo non politician determin next presid',\n",
              " 'way know',\n",
              " 'obama putin outlin compet vision syria',\n",
              " 'comment polic offic wife caught fake robberi scheme frame black live matter cat vagina nasti woman',\n",
              " 'gop lose walmart',\n",
              " 'suprem court decid weigh transgend right',\n",
              " 'hillari clinton charg obstruct justic could go prison year',\n",
              " 'top secret email clinton server discuss drone program may refer classifi info',\n",
              " 'miracl man metaxa vs close mind close univers',\n",
              " 'obamacar premium spike averag',\n",
              " 'collect conscious individu gone',\n",
              " 'obama gun control emot evolut',\n",
              " 'scientist found insid year old pot chang histori',\n",
              " 'clock tick republican still seriou obamacar altern',\n",
              " 'trump tread tradit new hampshir',\n",
              " 'gop presidenti candid hammer top secret clinton email final day iowa caucu',\n",
              " 'cleveland justic depart reach polic deal',\n",
              " 'physicist say conscious consid state matter non physic real',\n",
              " 'gop weekend courtesi koch network citizen unit',\n",
              " 'juan william bet trump clinton vice presidenti pick',\n",
              " 'trump clinton frame close argument',\n",
              " 'scott walker question obama faith',\n",
              " 'hillari greatest accomplish',\n",
              " 'iranian spend b beauti product annual time european counterpart',\n",
              " 'sander trump easili win west virginia primari trump pick nebraska',\n",
              " 'clinton sander face st democrat debat',\n",
              " 'innorthdakota palestinian stand sioux',\n",
              " 'human remain suggest explos brought egyptair plane forens offici say',\n",
              " 'us offici scan terror databas search pari attack suspect',\n",
              " 'isi declar kill palestinian one one yet remain quiet israel',\n",
              " 'hillari polit scientist',\n",
              " 'boom presid reagan handl protest negoti negoti video percentfedup com',\n",
              " 'clinton pick first major labor endors',\n",
              " 'link',\n",
              " 'obama syria war unlik end presid',\n",
              " 'blue brave illinoi town ralli around polic search offic killer goe',\n",
              " 'senat advanc bill approv keyston pipelin despit obama veto threat',\n",
              " 'comment indoor garden made easi nutritow indoor garden made easi nutritow collect evolutiongarden busi news uk garden busi news uk',\n",
              " 'us abstain un vote call end cuban embargo',\n",
              " 'young turk find trump lose utah republican first time decad video',\n",
              " 'comment mayor de blasio claim hot dog cart caus global warm dr eowyn',\n",
              " 'momentum bar syrian refuge slow',\n",
              " 'new evid legal immigr system discrimin latin american',\n",
              " 'america might deserv trump dem hillari deserv lose',\n",
              " 'media turn blind eye hillari clinton glare mistak',\n",
              " 'state depart admit deliber cut brief footag iran deal',\n",
              " 'u economi ad job octob beat expect',\n",
              " 'hillari clinton narrowli win kentucki state berni sander need huge margin',\n",
              " 'world war',\n",
              " 'kill shoot florida nightclub possibl act islam terror',\n",
              " 'anoth day life clinton crime famili',\n",
              " 'muslim regularli use inshallah god will arab nobodi call christophob hate speech deu vult god will latin graffiti call islamophob crusad hate speech',\n",
              " 'extrem rhetor help cruz trump duke leader say',\n",
              " 'hillari clinton fbi real novemb surpris inform',\n",
              " 'benghazi bust trey gowdi gop colleagu embarrass',\n",
              " 'obama seek global climat pact pari amid resist home',\n",
              " 'death possibl link superbug ucla hospit infect expos',\n",
              " 'break ivanka trump make tragic announc donald trump support shock video propheci',\n",
              " 'gop senat silenc entir room remark war hero oppon heritag debat',\n",
              " 'pm elect day water cooler',\n",
              " 'news somber moment cub fan world still sad princess diana celebr cub world seri',\n",
              " 'clinton media campaign follow buzzfe model',\n",
              " 'facebook page could land fema camp',\n",
              " 'watch isi terrorist get blown smithereen sure brighten day',\n",
              " 'exclus lawsuit disput tax tie trump compani',\n",
              " 'dog probabl better healthcar',\n",
              " 'get readi civil unrest survey find american concern elect violenc',\n",
              " 'histor first fill even democrat nation convent',\n",
              " 'retir bishop explain cathol church invent hell watch',\n",
              " 'cruz camp respond rubio photoshop flap brush critic',\n",
              " 'fli zone help peopl aleppo',\n",
              " 'expert recommend break crush defeat smaller manag failur onion america finest news sourc',\n",
              " 'comment score one second amend pizza hut worker shoot kill attempt robber lynnmccrann',\n",
              " 'war drug head wrong direct',\n",
              " 'begin crowd mass major citi dc la nyc philli portland escal chanc widespread violenc',\n",
              " 'hillari fan sleep ralli snoozi smurf steal show abc news coconut creek fla',\n",
              " 'neighbor smell smoke muslim home see window horrif',\n",
              " 'ben carson throw support behind donald trump',\n",
              " 'middl east crise trump inherit could still suck',\n",
              " 'clinton trump view isi putin us gener',\n",
              " 'john kirbi us state depart blatantli support terrorist henri kamen',\n",
              " 'paul ryan big speaker hangup reportedli famili male lawmak unusu',\n",
              " 'mccarthi withdraw speaker race vote postpon',\n",
              " 'joe giambron hollywood shameless underhand assault polit truth',\n",
              " 'immigr swamp',\n",
              " 'blame govern market monopoli',\n",
              " 'america alreadi strong obama continu democrat optim',\n",
              " 'dnc mysteri hack oppo file trump big yawn',\n",
              " 'hillari clinton role whatsoev american soldier ground iraq',\n",
              " 'donald trump key success opinion',\n",
              " 'first time trump shrink spotlight fiorina steal show',\n",
              " 'carrot top give nobel award drive thru window',\n",
              " 'scott walker stealth strategi',\n",
              " 'gaui publiu tpp pick power enemi black live matter',\n",
              " 'train french soldier supervis daesh',\n",
              " 'let make last endless american elect',\n",
              " 'novemb final abridg elect day resourc guid',\n",
              " 'go back futur',\n",
              " 'bad night front runner good night governor',\n",
              " 'public fund elect make polit even polar',\n",
              " 'game obamacar',\n",
              " 'anatomi crisi declin us empir',\n",
              " 'uncov audio hillari adamantli illeg immigr',\n",
              " 'obama say world address grievanc terrorist exploit',\n",
              " 'way prepar econom crisi',\n",
              " 'press must share blame shallow rate obsess media respons trump gop',\n",
              " 'day thing hillari indict extrem violenc expect',\n",
              " 'daesh abduct near mosul use human shield un',\n",
              " 'oregon standoff leader acquit malheur wildlif refug takeov',\n",
              " 'muslim start chant allah plane flight attend quickli shut',\n",
              " 'netanyahu iran threat israel world',\n",
              " 'unpreced surg elect fraud incid around countri',\n",
              " 'doj ag loretta lynch advis fbi director keep new email congress',\n",
              " 'report said trump donat vet might shadi respons predict',\n",
              " 'confid deficit impact elect',\n",
              " 'anonym hacker deric lostutt face year prison steubenvil rapist walk free',\n",
              " 'mccain pledg help pentagon fix scandal excess militari bonus',\n",
              " 'romney time trump troll',\n",
              " 'like concentr camp polic mark dapl protest number lock dog kennel',\n",
              " 'intersect time elitist exclusionari',\n",
              " 'sharpen debat ethic vote year presid',\n",
              " 'world wit breathtak centuri event',\n",
              " 'forbidden histori secret egyptolog expos',\n",
              " 'american public longer deal limitless corrupt govern',\n",
              " 'trust obama look sick thing stab trump back liberti writer news',\n",
              " 'ryan far prove make sausag like serv much differ hous parti',\n",
              " 'attorney gener nomine offer care back obama polici',\n",
              " 'end white christian america nigh countri youth abandon religi conservat',\n",
              " 'nuclear war break korean peninsula',\n",
              " 'strong job number hold risk clinton',\n",
              " 'sander warn clinton moder vp',\n",
              " 'hack accus russia sign washington desper',\n",
              " 'architect pari attack kill raid french author say',\n",
              " 'dr macdonald dr duke expos viciou war trump jewish establish',\n",
              " 'conserv refus believ obama christian',\n",
              " 'donald trump beat fox news gop rival',\n",
              " 'elect weapon american public',\n",
              " 'obama seek calm fear terror ahead holiday season',\n",
              " 'comic larri cabl guy slam indefens hypocrisi donna brazil',\n",
              " 'hillari clinton lead day elect day',\n",
              " 'democrat debat fact check candid',\n",
              " 'teenag boy knock classmat assault femal teacher face epic',\n",
              " 'carson take lead trump new nation poll',\n",
              " 'hillari win mani pundit even left',\n",
              " 'meteor space junk rocket mysteri flash hit siberia',\n",
              " 'takeaway republican debat',\n",
              " 'first time hear ask offic wanker',\n",
              " 'break new law stop hillari track offici inelig run',\n",
              " 'lawmak caught battl hous ethic cop',\n",
              " 'new keef video clinton campaign dnc coordin organ incit violenc trump event',\n",
              " 'like trampolin say hedgehog',\n",
              " 'presid putin ask us stop provok russia',\n",
              " 'ye clinton doubl standard',\n",
              " 'libertarian vp candid give focu prevent trump presid',\n",
              " 'alway admir donald trump taoiseach',\n",
              " 'wait result opinion conserv',\n",
              " 'brotherjohnf silver updat fake elect',\n",
              " 'ask think hillari clinton never expect say',\n",
              " 'option berni sander backer turn green parti jill stein',\n",
              " 'trump clinton head sc fierc competit heel',\n",
              " 'non opec produc expect cut',\n",
              " 'trump team begin make list execut order eras obama presid day one',\n",
              " 'trump shock gop choic',\n",
              " 'trump skeptic got wrong',\n",
              " 'donald trump take back heart countri',\n",
              " 'jeb bush fight lone battl defend common core',\n",
              " 'donald trump resist blame bill clinton sexism come',\n",
              " 'hillari clinton jump shark trump secret russian server conspiraci theori',\n",
              " 'clinton experi liabil',\n",
              " 'obama outlin plan keep troop afghanistan',\n",
              " 'biden backer naysay fast',\n",
              " 'clinton enjoy post dnc bounc last',\n",
              " 'alabama prison offici retali prison strike leader cut water cell',\n",
              " 'texa polic arrest trump voter wear deplor shirt',\n",
              " 'ngo condemn terrorist syria russia fight foreign ministri',\n",
              " 'genet modifi crop u fail deliv expect yield',\n",
              " 'fatal expens american imperi',\n",
              " 'comment group reluct men hold kitten first time hilar ensur para para dinl',\n",
              " 'hous yank first spend bill floor',\n",
              " 'donald trump push republican parti break point',\n",
              " 'trump clinton clash duel dc speech',\n",
              " 'hillari clinton betray famili vote trump',\n",
              " 'camp camp scuffl break hungari train station polic stop migrant train',\n",
              " 'green parti margaret flower challeng us senat debat maryland undemocrat',\n",
              " 'minimum wage went extrem enact',\n",
              " 'asia trade deal hurt us worker six tough question answer',\n",
              " 'boycottcomedian robert deniro want punch trump face support anti trump rioter want american support new movi video',\n",
              " 'doctor find new life clown fulfil gomerblog',\n",
              " 'citi counti leader ask court lift injunct obama immigr program',\n",
              " 'break bay pig veteran associ endors donald trump truthfe',\n",
              " 'rig elect hillari trump caught parti kissing jesuit gala',\n",
              " 'democrat clinton sander pounc flint water crisi',\n",
              " 'israel everlast',\n",
              " 'sander better match trump',\n",
              " 'georgia abandon ukrain anti russian obsess archil sikharulidz',\n",
              " 'trump vow renov bill right',\n",
              " 'peopl europ full fear refuge influx',\n",
              " 'cnn break news trump tell support vote multipl time',\n",
              " 'gop would unit trump peril',\n",
              " 'hillari big tent obama grand bargain steroid',\n",
              " 'kasich bow right thing',\n",
              " 'octob daili contrarian read',\n",
              " 'western media teleport child victim hom aleppo photo video',\n",
              " 'sad truth melania trump plagiar snafu',\n",
              " 'comey bombshel realli shake race',\n",
              " 'rate obama say success',\n",
              " 'jame comey taken know much clinton',\n",
              " 'noun verb donald trump rubio seek seiz murphi flaw',\n",
              " 'true scandal tortur chelsea man',\n",
              " 'opec see oil price explod barrel',\n",
              " 'clinton inc watch pain msm report clinton corrupt',\n",
              " 'unit state v texa biggest immigr case centuri explain',\n",
              " 'dare restrain laugh trump hillari stronger hot show',\n",
              " 'ufo investig max spier found dead vomit black liquid',\n",
              " 'jewish press releas audio tape expos hillari clinton plot rig elect',\n",
              " 'clinton campaign stun fbi reportedli reopen probe hillari clinton email',\n",
              " 'middl east sick state',\n",
              " 'physicist found hint elus particl antiparticl',\n",
              " 'shock nsa recov hillari delet email',\n",
              " 'white hous monitor iran aid ship yemen',\n",
              " 'trump still like fall deleg short nomin',\n",
              " 'trump sander trade blame chicago protest',\n",
              " 'electron vote machin caught switch trump vote hillari tri steal texa surviv',\n",
              " 'ga price could drop toward gallon',\n",
              " 'saber rattl saudi iran got omin',\n",
              " 'india stoneheng year old megalith site oldest observatori south asia',\n",
              " 'top us gener plead troop revolt',\n",
              " 'director comey jump chanc reopen hillari investig',\n",
              " 'poll obama popular upsw',\n",
              " 'bloomberg back pennsylvania attorney gener sentenc month prison',\n",
              " 'birthday surpris come hillari criminalton kim dotcom mysteri tweet',\n",
              " 'rachel maddow made fight reason tens hillari berni firework',\n",
              " 'past case suggest hillari indict',\n",
              " 'u split along racial line backlash polic poll find',\n",
              " 'media unload donald trump',\n",
              " 'reduc stress',\n",
              " 'popular health exchang jeopardi surpris republican win',\n",
              " 'first space photo earth shot third reich rocket',\n",
              " 'hillari slam dunk',\n",
              " 'russia india expand militari cooper focu navi project russia india report',\n",
              " 'make music great trump album cover',\n",
              " 'cnn talker famou say pu air lash newt say megyn obsess sex',\n",
              " 'senat gop leav tea parti primari battl behind',\n",
              " 'meet man start illuminati',\n",
              " 'anti trump deleg respons nomin',\n",
              " 'syria un envoy appal rebel attack civilian aleppo',\n",
              " 'collus facebook hillari campaign reveal clinton email',\n",
              " 'pro obama super pac shift focu possibl clinton bid',\n",
              " 'dead colorado spring plan parenthood shoot',\n",
              " 'report refuge camp calai franc jungl',\n",
              " 'trump refus say whether accept elect result',\n",
              " 'fiorina blame environmentalist california drought',\n",
              " 'ag lynch told fbi director comey go public new clinton email investig',\n",
              " 'fbi reopen clinton investig new email found comey',\n",
              " 'congress knew least two year pentagon effort take back bonus veteran',\n",
              " 'guilti verdict return american sniper murder trial',\n",
              " 'marco rubio rise gop rival reluct take directli',\n",
              " 'trump skip gop debat feud fox news boil',\n",
              " 'dark agenda behind global open border',\n",
              " 'reason start world war middl east realli bad idea',\n",
              " 'fifteen year nato bomb montenegro want join nato',\n",
              " 'part patriot act expir even senat move bill limit surveil',\n",
              " 'us charg india base scam involv victim',\n",
              " 'us kurdish troop involv invad isi capit raqqa',\n",
              " 'kasich voter start pay attent',\n",
              " 'michael moor owe',\n",
              " 'gestur thank turkey arrest terrorist extradit russia',\n",
              " 'jack heart lucif templ dog',\n",
              " 'presid obama realli realli realli realli hate maureen dowd',\n",
              " 'u congression deleg travel cuba weekend',\n",
              " 'democrat kill obama colleg save plan',\n",
              " 'clinton take first step dispel doubt candidaci',\n",
              " 'guardian front page year old migrant cri',\n",
              " 'restaur chain tim horton block independ journalist websit wifi',\n",
              " 'rais social secur retir age realli hurt poor',\n",
              " 'afghanistan die air attack hospit u investig',\n",
              " 'trump make last minut push appeal white onion america finest news sourc',\n",
              " 'new memori flight love one left legaci us',\n",
              " 'fact check fourth round gop debat',\n",
              " 'onpolit polit blog',\n",
              " 'clinton campaign cooper politico demystifi huma abedin',\n",
              " 'learn speak r n c attende everi state',\n",
              " 'zakharova kiev talk arm osc mission disinform',\n",
              " 'final vote patriot act trade deal bill set dramat stage congress return',\n",
              " 'write donald trump polit obituari yet surg ben carson look like flavor month',\n",
              " 'manni pacquiao son dead report say jimuel pacquiao die asthm complic morn news usa',\n",
              " 'hillari clinton postapocalypt hellscap plan',\n",
              " 'carmel institut celebr th anniversari jazz concert',\n",
              " 'trump twitter access revok onion america finest news sourc',\n",
              " 'rais wage paul krugman shatter myth afford boost worker pay',\n",
              " 'obama arctic trip come climat chang build issu',\n",
              " 'youtub censor video censorship',\n",
              " 'hillari clinton proactiv set ethic rule',\n",
              " 'israel hawk pope franci stay polit',\n",
              " 'budget good war year',\n",
              " 'anti clinton revolt among american elit gain momentum',\n",
              " 'american funhous manufactur consent',\n",
              " 'hillari clinton appoint old world nationalist cabinet posit',\n",
              " 'clinton trump must debat stage win night',\n",
              " 'clinton trump would bring war time postur white hous',\n",
              " 'gop debat fear cauldron accord republican candid go die',\n",
              " 'clinton hold narrow lead trump eve convent',\n",
              " 'kevin mccarthi announc candid hous speaker video',\n",
              " 'guid paradoxroutin',\n",
              " 'time warner merger anoth media consolid put profit consum',\n",
              " 'fall hous bush last name donald trump doom jeb',\n",
              " 'mitt romney fan specul anoth white hous run',\n",
              " 'us airstrik kill four iraqi troop near mosul',\n",
              " 'toler liber show noth contempt hatr toward nation black suprem court justic',\n",
              " 'us vs polit treat like footbal game one win',\n",
              " 'manhunt shift lone cabin upstat new york prison hideout',\n",
              " 'arm dakota access contractor accus tri infiltr water protector',\n",
              " 'state swat team drill prep backlash stolen elect',\n",
              " 'michael moor joe blow vote trump ultim f elit human molotov cocktail',\n",
              " 'beer less vodka russian mull ongo crisi rustem falyakhov',\n",
              " 'stop vendetta plan parenthood',\n",
              " 'understand propaganda art distract disinform',\n",
              " 'huffington post continu campaign hillari clinton',\n",
              " 'trunew dr lanc wallnau answer prayer cabal crumbl',\n",
              " 'ted cruz victori show gop imposs conundrum video',\n",
              " 'tea parti congressman call arm upris trump lose',\n",
              " 'us pullout yemen eas pressur al qaeda lawmak warn',\n",
              " 'obama trade bill troubl',\n",
              " 'secret servic test way intercept rogu drone late night flight washington',\n",
              " 'sourc baltimor mayor order polic stand',\n",
              " 'marketwatch leftist msm blatant anti trump bia may suicid',\n",
              " 'jane sander fbi get clinton email probe',\n",
              " 'happi new year wall street congress anoth gift',\n",
              " 'left turn bob dylan pro israel view refus acknowledg nobel prize',\n",
              " 'facebook nazi thought polic editor threaten quit mark zuckerberg ban donald trump hate speech',\n",
              " 'rival slam trump violent ralli incit violenc',\n",
              " 'oklahoma fratern close video racist chant',\n",
              " 'jeb bush good bad ugli',\n",
              " 'whirlwind day c showcas trump unorthodox view shift tone',\n",
              " 'andrew maguir paper gold market trade jaw drop tonn one day',\n",
              " 'hillari presid would bring',\n",
              " 'suprem court readi blockbust rule',\n",
              " 'happen mosul isi evict',\n",
              " 'mall america close first time ever thanksgiv',\n",
              " 'former director nation budget warn market tank us elect',\n",
              " 'delet account episod get sick',\n",
              " 'cnn reach new low call sheriff clark terrorist trump gave import job endingf news network',\n",
              " 'smithsonian refus includ judg black museum normal peopl opinion',\n",
              " 'iran nuclear deal obama want israel commit suicid',\n",
              " 'syrian war report novemb russian attack helicopt swarm hom provinc vineyard saker',\n",
              " 'berni swan song begin',\n",
              " 'would trump presid threaten rule law',\n",
              " 'googl god',\n",
              " 'berni sander say media trump gutless polit coward',\n",
              " 'sander deleg convent agenda',\n",
              " 'necessari break law improv standard live',\n",
              " 'pari climat summit expect histor talk',\n",
              " 'trump doctor letter take cholesterol drug overweight excel health',\n",
              " 'game changer trump support charg voter fraud case',\n",
              " 'suprem court right speedi trial end declar guilti',\n",
              " 'told zika viru harmless',\n",
              " 'debat futur american power abroad',\n",
              " 'sesam seed knee osteoarthr',\n",
              " 'final get work',\n",
              " 'trick treater get sock rock badass hillari pumpkin outsid',\n",
              " 'amurexit nafta tpp wall street global policeman',\n",
              " 'islam state accept boko haram allegi pledg',\n",
              " 'wife muslim jihadist kill wound orlando nightclub massacr say knew noth',\n",
              " 'farm invent mani time mani differ farmer vast landscap carlzimm nytim russia news',\n",
              " 'netanyahu warn iran deal could threaten surviv israel',\n",
              " 'comey reopen hillari investig',\n",
              " 'hillari leak audio discuss rig elect palestin',\n",
              " 'brussel trump strength reson gop voter video',\n",
              " 'intercept out neocon democrat smear trump putin puppet eric zuess',\n",
              " 'done deal clinton trump shift gener elect big win',\n",
              " 'told american media control six corpor',\n",
              " 'steve quayl econom collaps world war u elect',\n",
              " 'brian william chopper whopper say modern news media',\n",
              " 'republican littl reason act immigr today also primari',\n",
              " 'need see trump tax need real medic report',\n",
              " 'polic moral wait baltimor riot reshap attorney gener loretta lynch agenda',\n",
              " 'militar polic stand rock work man',\n",
              " 'bundi ranch occupi acquit count challeng corrupt bureau land manag',\n",
              " 'truth atlanti video',\n",
              " 'major corpor sponsor scale back support gop convent',\n",
              " 'admit love tax day opinion',\n",
              " 'western qld drover show solidar c u b worker drink sauv blanc betoota advoc',\n",
              " 'cnbc confirm comey abus power help trump',\n",
              " 'jason chaffetz expos hillari clinton plan bribe fbi agent let go',\n",
              " 'obama baltimor new',\n",
              " 'us rule daesh involv afghanistan offens',\n",
              " 'unit state pre posit enemi asset prepar rig elect',\n",
              " 'booz brand polar like politician',\n",
              " 'greec iran seem will take world video',\n",
              " 'comment second one virginia cop caught brag kill two unarm peopl jamieson',\n",
              " 'hillari clinton promis steadi leadership job histor speech',\n",
              " 'news elect night disast john king tap elector colleg map hard fell headfirst digit hellscap',\n",
              " 'clinton email investig shift poll significantli trump favor',\n",
              " 'peopl power nativ declar treati right polic admit defeat cite lack manpow remov dapl protest',\n",
              " 'obama u cannot solv world problem alon',\n",
              " 'hacker erod american trust democrat process',\n",
              " 'boy autism make first friend ever mom stop cri',\n",
              " 'julian assang octob surpris reveal',\n",
              " 'first contact film trailer',\n",
              " 'economist sign letter urg america vote donald trump',\n",
              " 'come job final',\n",
              " 'walker departur mean gop field',\n",
              " 'julian assang end suspens sourc hack email russia',\n",
              " 'dem oper oversaw trump ralli agit visit white hous time',\n",
              " 'trump tsunami incom trump florida today make presid',\n",
              " 'trump star vandal hollywood walk fame onion america finest news sourc',\n",
              " 'obama trip ethiopia alarm human right activist',\n",
              " 'nearli wild anim face mass extinct',\n",
              " 'illeg immigr could elect hillari',\n",
              " 'food contain vitamin e altern',\n",
              " 'trey gowdi word loretta lynch talk comey',\n",
              " 'northern sea rout new prospect pacif rim new eastern outlook',\n",
              " 'cruz campaign could stop trump rubio becam run mate',\n",
              " 'free summit health expert teach healthi fat revers diseas lose weight',\n",
              " 'kentucki governor elect hillari clinton may eventu lead violenc',\n",
              " 'contamin food china enter u organ label',\n",
              " 'forget wikileak real octob surpris go stop hillari',\n",
              " 'donald trump next presid unit state america',\n",
              " 'day count civil war matter win elect',\n",
              " 'internet fire specul podesta email contain code child sex',\n",
              " 'insid jeb shock awe launch',\n",
              " 'southern poverti law center target anti jihad crusad ann corcoran honor',\n",
              " 'babylon mysteri religion seri',\n",
              " 'relief effort find survivor intensifi amid power aftershock',\n",
              " 'earli primari calendar set chang',\n",
              " 'trump accept cruz endors',\n",
              " 'feder',\n",
              " 'confirm public overwhelmingli say media want hillari win',\n",
              " 'mitt romney call donald trump phoni fraud trump hit back',\n",
              " 'jamaica obama indic remov cuba terror list',\n",
              " 'turkey round erdogan polit oppon crackdown widen',\n",
              " 'trump control mossad',\n",
              " 'poll longer rig elect',\n",
              " 'new lunar crater mysteri space news',\n",
              " 'cruz immigr gambit',\n",
              " 'donald trump win presid histor victori',\n",
              " 'trump slam gop nomin process top aid accus cruz gestapo tactic win deleg',\n",
              " 'battl age',\n",
              " 'discrimin condemn australia war boat peopl',\n",
              " 'obama hit trail hillari clinton help hurt',\n",
              " 'scalia death come month court biggest abort case year',\n",
              " 'empir file insid palestin refuge camp',\n",
              " 'new saudi king ascend throne terror threat grow',\n",
              " 'anoth deadlin loom whisper iran nuclear deal emerg',\n",
              " 'donald trump clintonesqu foreign polici',\n",
              " 'isra trumpess',\n",
              " 'comment sheriff say cannabi make peopl murder ration thought lead violenc isaid dilligaf',\n",
              " 'seven world histor achiev iraq invas',\n",
              " 'major voter fraud alreadi run rampant republican',\n",
              " 'backer romney open',\n",
              " 'ye paid govern troll social media blog forum websit',\n",
              " 'real reason hillari prosecut email scandal infuri',\n",
              " 'rachel dolez assert black could pave way folk choos racial ident',\n",
              " 'brexit law',\n",
              " 'tsarnaev mom american terrorist',\n",
              " 'islamophobia oklahoma gop state rep say islam cancer nation need cut',\n",
              " 'welcom pari tour buse navig around new muslim tent citi fill street',\n",
              " 'clinton brace nevada nail biter',\n",
              " 'isra trumpess',\n",
              " 'us insid russia leak clinton email',\n",
              " 'smash gold silver happen shock game changer gold silver unfold',\n",
              " 'dad weird mood sinc',\n",
              " 'nato buildup eastern europ seen tip iceberg',\n",
              " 'california oregon want seced u trump elect',\n",
              " 'top five thing watch tonight debat',\n",
              " 'nra admit alway lie obama confisc gun',\n",
              " 'head medicar oversaw obamacar rollout step',\n",
              " 'republican protest say nearli kill trump say take',\n",
              " 'donald trump presid confederaci southern strategi creat gop civil war',\n",
              " 'former miss finland accus trump sexual assault bring number accus',\n",
              " 'kerri order state depart review record retent amid clinton email controversi',\n",
              " 'unit state reform fractur',\n",
              " 'sharp exchang elect year poll offer thought rest us',\n",
              " 'romney reboot loser realli fix problem',\n",
              " 'possibl fix polar american polit',\n",
              " 'ceta canada challeng eu chemic regul time',\n",
              " 'tini home ban u increas rate govt crimin sustain live',\n",
              " 'life third grader saw classmat lunch kept feed lunch clog door got school cancel',\n",
              " 'us face call walk away iran talk',\n",
              " 'netanyahu warn support may lose tuesday elect',\n",
              " 'harri reid call trade push obama gop insan',\n",
              " 'sex presidenti citi',\n",
              " 'san bernardino massacr horror affect us',\n",
              " 'netanyahu iran speech import congress least listen israel leader',\n",
              " 'obama warren absolut wrong trade deal',\n",
              " 'guardian go friggin nut calai',\n",
              " 'swing state stunner trump edg key state',\n",
              " 'austrian disgrac jail muslim migrant dump babi middl road got drunk enrag',\n",
              " 'modern histori rig us elect',\n",
              " 'carli fiorina appear top tier reagan librari debat',\n",
              " 'strang thing move alaska chena river caught video',\n",
              " 'trump expect name run mate soon look attack dog',\n",
              " 'presid obama interview samantha bee roll floor laugh video',\n",
              " 'end road john kasich',\n",
              " 'negoti pari climat talk toss kyoto model',\n",
              " 'happen quebec tri pass charter would ban religi attir public specif prevent muslim women hide face',\n",
              " 'elect grow global nuclear threat',\n",
              " 'barack juggl bibi vlad hillari',\n",
              " 'pentagon plan far us troop enter mosul',\n",
              " 'russian pianist deni matsuev terror us support putin',\n",
              " 'rand paul marco rubio feud cuba polici preview gop foreign polici debat',\n",
              " 'former gop repres call arm insurrect video',\n",
              " 'jeb bush blame iraq unrest obama',\n",
              " 'cop versu two inform teen refus submit unlaw detain',\n",
              " 'al qaeda rep say group direct pari magazin attack us issu travel warn',\n",
              " 'trump make secret deal prosecut hillari exchang concess',\n",
              " 'draw muhammad shoot say islam state reach video',\n",
              " 'truli import item post elect list thing protest',\n",
              " 'public vs media war',\n",
              " 'baltimor call feder polic probe new search answer video',\n",
              " 'freedom rider organ age hillari',\n",
              " 'iowa caucus closer think',\n",
              " 'enter u refuge would hard terrorist',\n",
              " 'crook hillari investig reopen democrat citi push allow illeg immigr vote',\n",
              " 'cnn call sheriff clark terrorist trump consid give incred new job endingf news network',\n",
              " 'town wisconsin pass law fine parent bulli',\n",
              " 'moder republican run congress anymor',\n",
              " 'suprem court consid redefin one person one vote principl',\n",
              " 'iowa nightmar revisit correct winner call caucu night',\n",
              " 'fbi investig new clinton email onion america finest news sourc',\n",
              " 'reveal interview trump predict massiv recess intend elimin nation debt year',\n",
              " 'euro russian mar lander may explod due softwar glitch',\n",
              " 'limit randomis control trial',\n",
              " 'climat chang opinion',\n",
              " 'obama gov scott walker need bone foreign polici',\n",
              " 'watch obama critic kenya presid gay right stand right',\n",
              " 'shallow magnitud earthquak rattl central itali shake build rome',\n",
              " 'obama plan boost defens budget point brew nation secur debat',\n",
              " 'trump clinton look vp',\n",
              " 'trump hollywood walk fame star destroy sledgehamm pick',\n",
              " 'gop nuclear option donald trump way beat scari',\n",
              " 'check claim nobodi anyth wrong benghazi',\n",
              " 'win indiana anybodi guess',\n",
              " 'palin endors latest prize trump cruz battl conserv',\n",
              " 'refuge resettl watch swept away north carolina',\n",
              " 'unravel chattanooga know shooter',\n",
              " 'novemb kale',\n",
              " 'appear rule anymor',\n",
              " 'univers missouri pleas immedi fire employe taunt media',\n",
              " 'trump vs clinton could reshap elector map',\n",
              " 'trump up ant indiana',\n",
              " 'plutocrat love jeb voter bush elect argument get even weaker',\n",
              " 'us marin deploy norway near russian border first time sinc world war ii',\n",
              " 'julian assang publish us elect',\n",
              " 'pakistan expel india diplomat tit tat move',\n",
              " 'news shot detroit airport use new system control travel',\n",
              " 'chri christi run beat hillari clinton',\n",
              " 'christi hide travel bill',\n",
              " 'russia deploy missil syria turkey shoot bomber',\n",
              " 'lawbreak airbnb send spam violat spam act',\n",
              " 'marco rubio self destruct new hampshir',\n",
              " 'comment entitl custom slam restaur yelp happen next sheer badasseri custom jersey',\n",
              " 'exclus foreign isi fighter defend mosul frontlin local flee',\n",
              " 'presid unit state america donald j trump',\n",
              " 'gop die liter',\n",
              " 'michael bloomberg name technolog unemploy next administr greatest conundrum',\n",
              " 'carli fiorina swipe trump look face',\n",
              " 'donald trump hillari clinton stand econom issu',\n",
              " 'anyon beat trump primari histori say',\n",
              " 'morn plum get readi anoth ideolog death struggl time climat',\n",
              " 'two point hillari clinton email fiasco',\n",
              " 'firm win mln us armi contract south korea nci',\n",
              " 'terror attack dead kenya univers',\n",
              " 'wall street hollywood media sjw fail stop donald trump becom america th presid',\n",
              " 'robert durst hbo jinx charg murder',\n",
              " 'iraq offens fail',\n",
              " 'hope hype hiroshima conceal obama dismal record nuclear disarma',\n",
              " 'email found anthoni weiner laptop doj block foundat probe',\n",
              " 'congress undermin u global econom stand',\n",
              " 'iran nuclear talk deal fall',\n",
              " 'elect rape sexual assault accus need taken serious',\n",
              " 'democrat convent passion end day one steadi earli drama',\n",
              " 'gop big money plan save senat',\n",
              " 'turn trump put investig month destroy email',\n",
              " 'russian navi move guid missil ship baltic',\n",
              " 'cruz blast trump phoni conserv front cpac crowd',\n",
              " 'take trump voter concern serious mean listen actual say',\n",
              " 'donald trump campaign terror billionair channel authoritarian rage soar top poll',\n",
              " 'bric countri invest million russian gold deposit kira egorova',\n",
              " 'thing late obama issu desper call global climat deal',\n",
              " 'hybrid war strategi africa introduct',\n",
              " 'go lose novemb th get prep post elect chao checklist video',\n",
              " 'hiv cure almost complet scientist remov viru dna live tissu',\n",
              " 'vortex structur water video',\n",
              " 'miss gop debat stage futur presid opinion',\n",
              " 'senat seek live wage capitol hill contractor',\n",
              " 'brian william fire shift stori iraq helicopt attack',\n",
              " 'get minut sunlight per day stop depress',\n",
              " 'austria freedom parti leader call chancellor angela merkel danger woman europ',\n",
              " 'sex scandal could chang elect',\n",
              " 'obama administr announc halt new coal leas',\n",
              " 'obamacar cancer treat quickli aggress die',\n",
              " 'topic unlik muslim hors actual sens humor',\n",
              " 'irish tv channel kill weather present halloween',\n",
              " 'scientist claim found alien civil',\n",
              " 'syrian live syria never revolut civil war terrorist sent govern',\n",
              " 'presid obama persist puzzl passiv terror',\n",
              " 'babi bond plan black white wealth equal conserv could love',\n",
              " 'two time world champion kickbox kill moscow video',\n",
              " 'jeb invis man strategi',\n",
              " 'death million yemeni forgotten war',\n",
              " 'charli hebdo attack suspect name photo releas',\n",
              " 'ted cruz marco rubio debat matter video',\n",
              " 'david sweat shot captur aliv new york manhunt',\n",
              " 'texa counti switch emerg paper ballot',\n",
              " 'polic famili fake robberi vandal home blame black live matter',\n",
              " 'obama open iran learn war republican foreign polici',\n",
              " 'berni sander campaign make worri manag white hous',\n",
              " 'dnc donor realli think african american',\n",
              " 'leak email show monsanto execut v p invit hillrais fundrais put clinton white hous monsanto benefit',\n",
              " 'clinton multipl fbi investig agent stymi',\n",
              " 'first iraqi troop enter mosul fight remain larg suburb',\n",
              " 'shock video hillari need help climb one singl step florida truthfe',\n",
              " 'vow end two war obama may leav three behind',\n",
              " 'climat engin cryospher collaps',\n",
              " ...]"
            ]
          },
          "metadata": {},
          "execution_count": 47
        }
      ]
    },
    {
      "cell_type": "code",
      "source": [
        "len(corpus)"
      ],
      "metadata": {
        "colab": {
          "base_uri": "https://localhost:8080/"
        },
        "id": "cxbQkte-B5WR",
        "outputId": "41a848a3-fa63-4c30-b52e-4702e66ce5f4"
      },
      "execution_count": 48,
      "outputs": [
        {
          "output_type": "execute_result",
          "data": {
            "text/plain": [
              "6335"
            ]
          },
          "metadata": {},
          "execution_count": 48
        }
      ]
    },
    {
      "cell_type": "code",
      "source": [
        "#bag of words model\n",
        "\n",
        "from sklearn.feature_extraction.text import CountVectorizer\n",
        "cv = CountVectorizer(max_features=5000,ngram_range=(1,3))\n",
        "X = cv.fit_transform(corpus).toarray()"
      ],
      "metadata": {
        "id": "VUW33xnAB-kG"
      },
      "execution_count": 51,
      "outputs": []
    },
    {
      "cell_type": "code",
      "source": [
        "X.shape"
      ],
      "metadata": {
        "colab": {
          "base_uri": "https://localhost:8080/"
        },
        "id": "rIiWtKExCmO1",
        "outputId": "437f5d18-7000-4f63-949d-f5ecf5cb63df"
      },
      "execution_count": 52,
      "outputs": [
        {
          "output_type": "execute_result",
          "data": {
            "text/plain": [
              "(6335, 5000)"
            ]
          },
          "metadata": {},
          "execution_count": 52
        }
      ]
    },
    {
      "cell_type": "code",
      "source": [
        "X[0]"
      ],
      "metadata": {
        "colab": {
          "base_uri": "https://localhost:8080/"
        },
        "id": "jE6-QLnGC2y7",
        "outputId": "ebc8a08a-912e-4d39-d1af-1fa7c3a99b03"
      },
      "execution_count": 53,
      "outputs": [
        {
          "output_type": "execute_result",
          "data": {
            "text/plain": [
              "array([0, 0, 0, ..., 0, 0, 0])"
            ]
          },
          "metadata": {},
          "execution_count": 53
        }
      ]
    },
    {
      "cell_type": "code",
      "source": [
        "y = dataset['label']"
      ],
      "metadata": {
        "id": "jQiAk1IOC4zw"
      },
      "execution_count": 54,
      "outputs": []
    },
    {
      "cell_type": "code",
      "source": [
        "y.shape"
      ],
      "metadata": {
        "colab": {
          "base_uri": "https://localhost:8080/"
        },
        "id": "mkM94yAwC_Dd",
        "outputId": "17d776ba-2077-41b2-d2b2-3317b1de984f"
      },
      "execution_count": 55,
      "outputs": [
        {
          "output_type": "execute_result",
          "data": {
            "text/plain": [
              "(6335,)"
            ]
          },
          "metadata": {},
          "execution_count": 55
        }
      ]
    },
    {
      "cell_type": "code",
      "source": [
        "## Divide the dataset into Train and Test\n",
        "\n",
        "from sklearn.model_selection import train_test_split\n",
        "X_train, X_test, y_train, y_test = train_test_split(X, y, test_size=0.33, random_state=0)"
      ],
      "metadata": {
        "id": "hNAjvjHiDDqd"
      },
      "execution_count": 56,
      "outputs": []
    },
    {
      "cell_type": "code",
      "source": [
        "X_train.shape"
      ],
      "metadata": {
        "colab": {
          "base_uri": "https://localhost:8080/"
        },
        "id": "W_NOPSboDRs3",
        "outputId": "ef9f0128-7038-4f03-e17f-fe38bff745b8"
      },
      "execution_count": 57,
      "outputs": [
        {
          "output_type": "execute_result",
          "data": {
            "text/plain": [
              "(4244, 5000)"
            ]
          },
          "metadata": {},
          "execution_count": 57
        }
      ]
    },
    {
      "cell_type": "code",
      "source": [
        "X_test.shape"
      ],
      "metadata": {
        "colab": {
          "base_uri": "https://localhost:8080/"
        },
        "id": "0kvqkg4tDZWU",
        "outputId": "55ed9e5b-7473-4b1d-9be6-6d99a080eea2"
      },
      "execution_count": 58,
      "outputs": [
        {
          "output_type": "execute_result",
          "data": {
            "text/plain": [
              "(2091, 5000)"
            ]
          },
          "metadata": {},
          "execution_count": 58
        }
      ]
    },
    {
      "cell_type": "code",
      "source": [
        "from sklearn.naive_bayes import MultinomialNB\n",
        "classifier=MultinomialNB()\n",
        "classifier.fit(X_train, y_train)"
      ],
      "metadata": {
        "colab": {
          "base_uri": "https://localhost:8080/"
        },
        "id": "zTlmNHo5DcUg",
        "outputId": "20bd847c-5650-4bc6-c09e-6d068e43082c"
      },
      "execution_count": 59,
      "outputs": [
        {
          "output_type": "execute_result",
          "data": {
            "text/plain": [
              "MultinomialNB()"
            ]
          },
          "metadata": {},
          "execution_count": 59
        }
      ]
    },
    {
      "cell_type": "code",
      "source": [
        "y_pred = classifier.predict(X_test)"
      ],
      "metadata": {
        "id": "N-qan7bGDzLb"
      },
      "execution_count": 61,
      "outputs": []
    },
    {
      "cell_type": "code",
      "source": [
        "y_pred"
      ],
      "metadata": {
        "colab": {
          "base_uri": "https://localhost:8080/"
        },
        "id": "loeA3C50EDo2",
        "outputId": "461a93f7-b1d5-4d14-a706-e01ed891afe7"
      },
      "execution_count": 62,
      "outputs": [
        {
          "output_type": "execute_result",
          "data": {
            "text/plain": [
              "array(['REAL', 'REAL', 'FAKE', ..., 'REAL', 'FAKE', 'REAL'], dtype='<U4')"
            ]
          },
          "metadata": {},
          "execution_count": 62
        }
      ]
    },
    {
      "cell_type": "code",
      "source": [
        "from sklearn.metrics import confusion_matrix, accuracy_score\n",
        "cm = confusion_matrix(y_test, y_pred)\n",
        "sns.heatmap(cm , annot=True)\n",
        "cm"
      ],
      "metadata": {
        "colab": {
          "base_uri": "https://localhost:8080/",
          "height": 301
        },
        "id": "99Zh7wMjEGzc",
        "outputId": "c638351c-375d-4c68-8748-27e0595f2b70"
      },
      "execution_count": 63,
      "outputs": [
        {
          "output_type": "execute_result",
          "data": {
            "text/plain": [
              "array([[800, 227],\n",
              "       [153, 911]])"
            ]
          },
          "metadata": {},
          "execution_count": 63
        },
        {
          "output_type": "display_data",
          "data": {
            "image/png": "[encoded data removed]",
            "text/plain": [
              "<Figure size 432x288 with 2 Axes>"
            ]
          },
          "metadata": {
            "needs_background": "light"
          }
        }
      ]
    },
    {
      "cell_type": "code",
      "source": [
        "accuracy_score(y_test, y_pred)"
      ],
      "metadata": {
        "colab": {
          "base_uri": "https://localhost:8080/"
        },
        "id": "k282q3kIEs4P",
        "outputId": "81c06458-23b7-40aa-e4b7-3cfd819155af"
      },
      "execution_count": 64,
      "outputs": [
        {
          "output_type": "execute_result",
          "data": {
            "text/plain": [
              "0.8182687709230033"
            ]
          },
          "metadata": {},
          "execution_count": 64
        }
      ]
    }
  ]
}